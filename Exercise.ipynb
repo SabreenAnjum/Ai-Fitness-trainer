{
 "cells": [
  {
   "cell_type": "code",
   "execution_count": 2,
   "id": "2d97e5ec",
   "metadata": {},
   "outputs": [],
   "source": [
    "import cv2\n",
    "import numpy as np\n",
    "import os\n",
    "from matplotlib import pyplot as plt\n",
    "import time\n",
    "import mediapipe as mp\n",
    "import tensorflow as tf\n",
    "import math\n",
    "\n",
    "from sklearn.model_selection import train_test_split\n",
    "from sklearn.metrics import multilabel_confusion_matrix, accuracy_score, classification_report\n",
    "from tensorflow.keras.utils import to_categorical\n",
    "\n",
    "import tensorflow as tf\n",
    "from tensorflow.keras import backend as K\n",
    "from tensorflow.keras.callbacks import TensorBoard, EarlyStopping, ReduceLROnPlateau, ModelCheckpoint\n",
    "\n",
    "from tensorflow.keras.models import Sequential, Model\n",
    "\n",
    "from tensorflow.keras.layers import (LSTM, Dense, Concatenate, Attention, Dropout, Softmax,\n",
    "                                     Input, Flatten, Activation, Bidirectional, Permute, multiply, \n",
    "                                     ConvLSTM2D, MaxPooling3D, TimeDistributed, Conv2D, MaxPooling2D)\n",
    "\n",
    "from scipy import stats\n",
    "\n",
    "# disable some of the tf/keras training warnings \n",
    "os.environ['TF_CPP_MIN_LOG_LEVEL'] = \"3\"\n",
    "tf.get_logger().setLevel(\"ERROR\")\n",
    "tf.autograph.set_verbosity(1)\n",
    "\n",
    "# suppress untraced functions warning\n",
    "import absl.logging\n",
    "absl.logging.set_verbosity(absl.logging.ERROR)"
   ]
  },
  {
   "cell_type": "code",
   "execution_count": 3,
   "id": "20cde117",
   "metadata": {},
   "outputs": [],
   "source": [
    "# Pre-trained pose estimation model from Google Mediapipe\n",
    "mp_pose = mp.solutions.pose\n",
    "\n",
    "# Supported Mediapipe visualization tools\n",
    "mp_drawing = mp.solutions.drawing_utils"
   ]
  },
  {
   "cell_type": "code",
   "execution_count": 4,
   "id": "716e9f8e",
   "metadata": {},
   "outputs": [],
   "source": [
    "def mediapipe_detection(image, model):\n",
    "    \"\"\"\n",
    "    This function detects human pose estimation keypoints from webcam footage\n",
    "    \n",
    "    \"\"\"\n",
    "    image = cv2.cvtColor(image, cv2.COLOR_BGR2RGB) # COLOR CONVERSION BGR 2 RGB\n",
    "    image.flags.writeable = False                  # Image is no longer writeable\n",
    "    results = model.process(image)                 # Make prediction\n",
    "    image.flags.writeable = True                   # Image is now writeable \n",
    "    image = cv2.cvtColor(image, cv2.COLOR_RGB2BGR) # COLOR COVERSION RGB 2 BGR\n",
    "    return image, results"
   ]
  },
  {
   "cell_type": "code",
   "execution_count": 5,
   "id": "9bd7ba58",
   "metadata": {},
   "outputs": [],
   "source": [
    "def draw_landmarks(image, results):\n",
    "    \"\"\"\n",
    "    This function draws keypoints and landmarks detected by the human pose estimation model\n",
    "    \n",
    "    \"\"\"\n",
    "    mp_drawing.draw_landmarks(image, results.pose_landmarks, mp_pose.POSE_CONNECTIONS,\n",
    "                                mp_drawing.DrawingSpec(color=(245,117,66), thickness=2, circle_radius=2), \n",
    "                                mp_drawing.DrawingSpec(color=(245,66,230), thickness=2, circle_radius=2) \n",
    "                             )"
   ]
  },
  {
   "cell_type": "code",
   "execution_count": 6,
   "id": "c0ebe952",
   "metadata": {},
   "outputs": [],
   "source": [
    "cap = cv2.VideoCapture(0) # camera object\n",
    "HEIGHT = int(cap.get(cv2.CAP_PROP_FRAME_HEIGHT)) # webcam video frame height\n",
    "WIDTH = int(cap.get(cv2.CAP_PROP_FRAME_WIDTH)) # webcam video frame width\n",
    "FPS = int(cap.get(cv2.CAP_PROP_FPS)) # webcam video fram rate \n",
    "\n",
    "# Set and test mediapipe model using webcam\n",
    "with mp_pose.Pose(min_detection_confidence=0.5, min_tracking_confidence=0.5) as pose:\n",
    "    while cap.isOpened():\n",
    "\n",
    "        # Read feed\n",
    "        ret, frame = cap.read()\n",
    "      \n",
    "        # Make detection\n",
    "        image, results = mediapipe_detection(frame, pose)\n",
    "        \n",
    "        # Extract landmarks\n",
    "        try:\n",
    "            landmarks = results.pose_landmarks.landmark\n",
    "        except:\n",
    "            pass\n",
    "        \n",
    "        # Render detections\n",
    "        draw_landmarks(image, results)               \n",
    "        \n",
    "        # Display frame on screen\n",
    "        cv2.imshow('OpenCV Feed', image)\n",
    "        \n",
    "        # Exit / break out logic\n",
    "        if cv2.waitKey(10) & 0xFF == ord('q'):\n",
    "            break\n",
    "\n",
    "    cap.release()\n",
    "    cv2.destroyAllWindows()"
   ]
  },
  {
   "cell_type": "markdown",
   "id": "f9fb32f3",
   "metadata": {},
   "source": [
    "# 2. Extract Keypoints"
   ]
  },
  {
   "cell_type": "code",
   "execution_count": 7,
   "id": "a81823f6",
   "metadata": {},
   "outputs": [
    {
     "name": "stdout",
     "output_type": "stream",
     "text": [
      "[array([ 0.63427126,  0.4317089 , -0.88813716,  0.999708  ]), array([ 0.65438765,  0.36370784, -0.82018536,  0.99948317]), array([ 0.67098105,  0.36519527, -0.82041758,  0.99949253]), array([ 0.68778384,  0.36778945, -0.82027578,  0.99927908]), array([ 0.59674037,  0.36592585, -0.85521305,  0.99960893]), array([ 0.56920761,  0.36906356, -0.85521173,  0.99970651]), array([ 0.54542089,  0.37414196, -0.85572636,  0.9996742 ]), array([ 0.70813662,  0.40176952, -0.36166945,  0.99936575]), array([ 0.50428689,  0.41320437, -0.51007664,  0.99985331]), array([ 0.65891278,  0.50324792, -0.71127588,  0.99966377]), array([ 0.59550107,  0.51156646, -0.75340211,  0.99984151]), array([0.78856534, 0.73367035, 0.03548674, 0.99119997]), array([ 0.40905342,  0.7027474 , -0.45189843,  0.99725133]), array([0.83910006, 0.97769773, 0.09006096, 0.12661767]), array([ 0.31682214,  1.01621592, -0.90182   ,  0.49106732]), array([ 0.8994481 ,  1.19100809, -0.35125655,  0.0959014 ]), array([ 0.51665509,  1.00796366, -1.58863568,  0.4625237 ]), array([ 0.93349761,  1.24805367, -0.42746249,  0.14019956]), array([ 0.55750138,  0.98433721, -1.72596836,  0.48149052]), array([ 0.92224807,  1.21874452, -0.4828555 ,  0.17898265]), array([ 0.54077697,  0.9049167 , -1.7093153 ,  0.53436464]), array([ 0.89651728,  1.20282352, -0.39398617,  0.1842657 ]), array([ 0.5400933 ,  0.91231716, -1.59508741,  0.52329034]), array([7.04611421e-01, 1.47032440e+00, 1.01575814e-01, 1.36316440e-03]), array([ 4.37226623e-01,  1.47168016e+00, -9.80875269e-02,  1.36185181e-03]), array([6.92872107e-01, 2.05929923e+00, 1.44033343e-01, 7.30781059e-04]), array([ 4.40775782e-01,  2.07122922e+00, -7.81382620e-02,  3.86654312e-04]), array([6.77108288e-01, 2.59362817e+00, 6.84457421e-01, 1.55366404e-04]), array([4.31196123e-01, 2.60827756e+00, 2.95474380e-01, 3.22751184e-05]), array([6.74445271e-01, 2.68079162e+00, 7.02489555e-01, 9.74318536e-05]), array([4.03114378e-01, 2.69796872e+00, 3.10643613e-01, 5.65768460e-05]), array([6.89191222e-01, 2.74573779e+00, 2.31575161e-01, 1.75759647e-04]), array([ 5.14678657e-01,  2.75184655e+00, -3.10848504e-01,  1.24260972e-04])]\n"
     ]
    }
   ],
   "source": [
    "# Recollect and organize keypoints from the test\n",
    "pose = []\n",
    "for res in results.pose_landmarks.landmark:\n",
    "    test = np.array([res.x, res.y, res.z, res.visibility])\n",
    "    pose.append(test)\n",
    "print(pose)"
   ]
  },
  {
   "cell_type": "code",
   "execution_count": 8,
   "id": "cd92eee3",
   "metadata": {},
   "outputs": [],
   "source": [
    "# 33 landmarks with 4 values (x, y, z, visibility)\n",
    "num_landmarks = len(landmarks)\n",
    "num_values = len(test)\n",
    "num_input_values = num_landmarks*num_values"
   ]
  },
  {
   "cell_type": "code",
   "execution_count": 9,
   "id": "9dad5b8c",
   "metadata": {},
   "outputs": [
    {
     "name": "stdout",
     "output_type": "stream",
     "text": [
      "[ 6.34271264e-01  4.31708902e-01 -8.88137162e-01  9.99707997e-01\n",
      "  6.54387653e-01  3.63707840e-01 -8.20185363e-01  9.99483168e-01\n",
      "  6.70981050e-01  3.65195274e-01 -8.20417583e-01  9.99492526e-01\n",
      "  6.87783837e-01  3.67789447e-01 -8.20275784e-01  9.99279082e-01\n",
      "  5.96740365e-01  3.65925848e-01 -8.55213046e-01  9.99608934e-01\n",
      "  5.69207609e-01  3.69063556e-01 -8.55211735e-01  9.99706507e-01\n",
      "  5.45420885e-01  3.74141961e-01 -8.55726361e-01  9.99674201e-01\n",
      "  7.08136618e-01  4.01769519e-01 -3.61669451e-01  9.99365747e-01\n",
      "  5.04286885e-01  4.13204372e-01 -5.10076642e-01  9.99853313e-01\n",
      "  6.58912778e-01  5.03247917e-01 -7.11275876e-01  9.99663770e-01\n",
      "  5.95501065e-01  5.11566460e-01 -7.53402114e-01  9.99841511e-01\n",
      "  7.88565338e-01  7.33670354e-01  3.54867354e-02  9.91199970e-01\n",
      "  4.09053415e-01  7.02747405e-01 -4.51898426e-01  9.97251332e-01\n",
      "  8.39100063e-01  9.77697730e-01  9.00609642e-02  1.26617670e-01\n",
      "  3.16822141e-01  1.01621592e+00 -9.01820004e-01  4.91067320e-01\n",
      "  8.99448097e-01  1.19100809e+00 -3.51256549e-01  9.59013999e-02\n",
      "  5.16655087e-01  1.00796366e+00 -1.58863568e+00  4.62523699e-01\n",
      "  9.33497608e-01  1.24805367e+00 -4.27462488e-01  1.40199557e-01\n",
      "  5.57501376e-01  9.84337211e-01 -1.72596836e+00  4.81490523e-01\n",
      "  9.22248065e-01  1.21874452e+00 -4.82855499e-01  1.78982645e-01\n",
      "  5.40776968e-01  9.04916704e-01 -1.70931530e+00  5.34364641e-01\n",
      "  8.96517277e-01  1.20282352e+00 -3.93986166e-01  1.84265703e-01\n",
      "  5.40093303e-01  9.12317157e-01 -1.59508741e+00  5.23290336e-01\n",
      "  7.04611421e-01  1.47032440e+00  1.01575814e-01  1.36316440e-03\n",
      "  4.37226623e-01  1.47168016e+00 -9.80875269e-02  1.36185181e-03\n",
      "  6.92872107e-01  2.05929923e+00  1.44033343e-01  7.30781059e-04\n",
      "  4.40775782e-01  2.07122922e+00 -7.81382620e-02  3.86654312e-04\n",
      "  6.77108288e-01  2.59362817e+00  6.84457421e-01  1.55366404e-04\n",
      "  4.31196123e-01  2.60827756e+00  2.95474380e-01  3.22751184e-05\n",
      "  6.74445271e-01  2.68079162e+00  7.02489555e-01  9.74318536e-05\n",
      "  4.03114378e-01  2.69796872e+00  3.10643613e-01  5.65768460e-05\n",
      "  6.89191222e-01  2.74573779e+00  2.31575161e-01  1.75759647e-04\n",
      "  5.14678657e-01  2.75184655e+00 -3.10848504e-01  1.24260972e-04]\n"
     ]
    }
   ],
   "source": [
    "# This is an example of what we would use as an input into our AI models\n",
    "pose = np.array([[res.x, res.y, res.z, res.visibility] for res in results.pose_landmarks.landmark]).flatten() if results.pose_landmarks else np.zeros(33*4)\n",
    "print(pose)"
   ]
  },
  {
   "cell_type": "code",
   "execution_count": 10,
   "id": "6f4d1079",
   "metadata": {},
   "outputs": [],
   "source": [
    "def extract_keypoints(results):\n",
    "    \"\"\"\n",
    "    Processes and organizes the keypoints detected from the pose estimation model \n",
    "    to be used as inputs for the exercise decoder models\n",
    "    \n",
    "    \"\"\"\n",
    "    pose = np.array([[res.x, res.y, res.z, res.visibility] for res in results.pose_landmarks.landmark]).flatten() if results.pose_landmarks else np.zeros(33*4)\n",
    "    return pose"
   ]
  },
  {
   "cell_type": "markdown",
   "id": "03b907e8",
   "metadata": {},
   "source": [
    "# 3. Setup Folders for Collection"
   ]
  },
  {
   "cell_type": "code",
   "execution_count": 11,
   "id": "ddcaecfd",
   "metadata": {},
   "outputs": [
    {
     "name": "stdout",
     "output_type": "stream",
     "text": [
      "C:\\Users\\Sabreen Anjum\\Downloads\\Exercise\\Exercise\\data\n"
     ]
    }
   ],
   "source": [
    "# Path for exported data, numpy arrays\n",
    "DATA_PATH = os.path.join(os. getcwd(),'data') \n",
    "print(DATA_PATH)\n",
    "\n",
    "# make directory if it does not exist yet\n",
    "if not os.path.exists(DATA_PATH):\n",
    "    os.makedirs(DATA_PATH)\n",
    "\n",
    "# Actions/exercises that we try to detect\n",
    "actions = np.array(['curl', 'press', 'squat'])\n",
    "num_classes = len(actions)\n",
    "\n",
    "# How many videos worth of data\n",
    "no_sequences = 50\n",
    "\n",
    "# Videos are going to be this many frames in length\n",
    "sequence_length = FPS*1\n",
    "\n",
    "# Folder start\n",
    "# Change this to collect more data and not lose previously collected data\n",
    "start_folder = 101"
   ]
  },
  {
   "cell_type": "code",
   "execution_count": 12,
   "id": "fed6b275",
   "metadata": {},
   "outputs": [],
   "source": [
    "# Build folder paths\n",
    "for action in actions:     \n",
    "    for sequence in range(start_folder,no_sequences+start_folder):\n",
    "        try: \n",
    "            os.makedirs(os.path.join(DATA_PATH, action, str(sequence)))  \n",
    "        except:\n",
    "            pass"
   ]
  },
  {
   "cell_type": "markdown",
   "id": "7622b573",
   "metadata": {},
   "source": [
    "# 4. Collect Keypoint Values for Training and Testing"
   ]
  },
  {
   "cell_type": "code",
   "execution_count": 13,
   "id": "d224561f",
   "metadata": {},
   "outputs": [],
   "source": [
    "# Colors associated with each exercise (e.g., curls are denoted by blue, squats are denoted by orange, etc.)\n",
    "colors = [(245,117,16), (117,245,16), (16,117,245)]"
   ]
  },
  {
   "cell_type": "code",
   "execution_count": 14,
   "id": "41b81490",
   "metadata": {},
   "outputs": [],
   "source": [
    "# Collect Training Data\n",
    "\n",
    "cap = cv2.VideoCapture(0)\n",
    "# Set mediapipe model \n",
    "with mp_pose.Pose(min_detection_confidence=0.5, min_tracking_confidence=0.5) as pose:\n",
    "    # Loop through actions\n",
    "    for idx, action in enumerate(actions):\n",
    "        # Loop through sequences (i.e., videos)\n",
    "        for sequence in range(start_folder, start_folder+no_sequences):\n",
    "            # Loop through video length (i.e, sequence length)\n",
    "            for frame_num in range(sequence_length):\n",
    "                # Read feed\n",
    "                ret, frame = cap.read()\n",
    "                \n",
    "                # Make detection\n",
    "                image, results = mediapipe_detection(frame, pose)\n",
    "\n",
    "                # Extract landmarks\n",
    "                try:\n",
    "                    landmarks = results.pose_landmarks.landmark\n",
    "                except:\n",
    "                    pass\n",
    "                \n",
    "                # Render detections\n",
    "                draw_landmarks(image, results) \n",
    "\n",
    "                # Apply visualization logic\n",
    "                if frame_num == 0: # If first frame in sequence, print that you're starting a new data collection and wait 500 ms\n",
    "                    cv2.putText(image, 'STARTING COLLECTION', (120,200), \n",
    "                            cv2.FONT_HERSHEY_SIMPLEX, 1, (0,255, 0), 4, cv2.LINE_AA)\n",
    "                    cv2.putText(image, 'Collecting {} Video # {}'.format(action, sequence), (15,30), \n",
    "                            cv2.FONT_HERSHEY_SIMPLEX, 1, (255, 255, 255), 8, cv2.LINE_AA)\n",
    "                    cv2.putText(image, 'Collecting {} Video # {}'.format(action, sequence), (15,30), \n",
    "                            cv2.FONT_HERSHEY_SIMPLEX, 1, colors[idx], 4, cv2.LINE_AA)\n",
    "                    \n",
    "                    # Show to screen\n",
    "                    cv2.imshow('OpenCV Feed', image)\n",
    "                    cv2.waitKey(5)\n",
    "                else: \n",
    "                    cv2.putText(image, 'Collecting {} Video # {}'.format(action, sequence), (15,30), \n",
    "                            cv2.FONT_HERSHEY_SIMPLEX, 1, (255, 255, 255), 8, cv2.LINE_AA)\n",
    "                    cv2.putText(image, 'Collecting {} Video # {}'.format(action, sequence), (15,30), \n",
    "                            cv2.FONT_HERSHEY_SIMPLEX, 1, colors[idx], 4, cv2.LINE_AA)\n",
    "                    \n",
    "                    # Show to screen\n",
    "                    cv2.imshow('OpenCV Feed', image)\n",
    "\n",
    "                # Export keypoints (sequence + pose landmarks)\n",
    "                keypoints = extract_keypoints(results)\n",
    "                npy_path = os.path.join(DATA_PATH, action, str(sequence), str(frame_num))\n",
    "                np.save(npy_path, keypoints)\n",
    "\n",
    "                # Break gracefully\n",
    "                if cv2.waitKey(10) & 0xFF == ord('q'):\n",
    "                    break\n",
    "                    \n",
    "    cap.release()\n",
    "    cv2.destroyAllWindows()"
   ]
  },
  {
   "cell_type": "code",
   "execution_count": 15,
   "id": "4b016129",
   "metadata": {},
   "outputs": [],
   "source": [
    "cap.release()\n",
    "cv2.destroyAllWindows()"
   ]
  },
  {
   "cell_type": "markdown",
   "id": "d01ec993",
   "metadata": {},
   "source": [
    "# 5. Preprocess Data and Create Labels/Features"
   ]
  },
  {
   "cell_type": "code",
   "execution_count": 16,
   "id": "cad528c8",
   "metadata": {},
   "outputs": [],
   "source": [
    "label_map = {label:num for num, label in enumerate(actions)}"
   ]
  },
  {
   "cell_type": "code",
   "execution_count": 17,
   "id": "a0add3fb",
   "metadata": {},
   "outputs": [],
   "source": [
    "# Load and organize recorded training data\n",
    "sequences, labels = [], []\n",
    "for action in actions:\n",
    "    for sequence in np.array(os.listdir(os.path.join(DATA_PATH, action))).astype(int):\n",
    "        window = []\n",
    "        for frame_num in range(sequence_length):         \n",
    "            # LSTM input data\n",
    "            res = np.load(os.path.join(DATA_PATH, action, str(sequence), \"{}.npy\".format(frame_num)))\n",
    "            window.append(res)  \n",
    "            \n",
    "        sequences.append(window)\n",
    "        labels.append(label_map[action])"
   ]
  },
  {
   "cell_type": "code",
   "execution_count": 18,
   "id": "ab459ce4",
   "metadata": {},
   "outputs": [
    {
     "name": "stdout",
     "output_type": "stream",
     "text": [
      "(150, 30, 132) (150, 3)\n"
     ]
    }
   ],
   "source": [
    "# Make sure first dimensions of arrays match\n",
    "X = np.array(sequences)\n",
    "y = to_categorical(labels).astype(int)\n",
    "print(X.shape, y.shape)"
   ]
  },
  {
   "cell_type": "code",
   "execution_count": 19,
   "id": "5ac49993",
   "metadata": {},
   "outputs": [
    {
     "name": "stdout",
     "output_type": "stream",
     "text": [
      "(135, 30, 132) (135, 3)\n"
     ]
    }
   ],
   "source": [
    "# Split into training, validation, and testing datasets\n",
    "X_train, X_test, y_train, y_test = train_test_split(X, y, test_size=0.10, random_state=1)\n",
    "print(X_train.shape, y_train.shape)\n",
    "X_train, X_val, y_train, y_val = train_test_split(X_train, y_train, test_size=15/90, random_state=2)"
   ]
  },
  {
   "cell_type": "markdown",
   "id": "e53ae03d",
   "metadata": {},
   "source": [
    "# 6. Build and Train Neural Networks"
   ]
  },
  {
   "cell_type": "code",
   "execution_count": 20,
   "id": "912f3153",
   "metadata": {},
   "outputs": [],
   "source": [
    "# Callbacks to be used during neural network training \n",
    "es_callback = EarlyStopping(monitor='val_loss', min_delta=5e-4, patience=10, verbose=0, mode='min')\n",
    "lr_callback = ReduceLROnPlateau(monitor='val_loss', factor=0.2, patience=5, min_lr=0.00001, verbose=0, mode='min')\n",
    "chkpt_callback = ModelCheckpoint(filepath=DATA_PATH, monitor='val_loss', verbose=0, save_best_only=True, \n",
    "                                 save_weights_only=False, mode='min', save_freq=1)\n",
    "\n",
    "# Optimizer\n",
    "opt = tf.keras.optimizers.Adam(learning_rate=0.01)\n",
    "\n",
    "# some hyperparamters\n",
    "batch_size = 32\n",
    "max_epochs = 500"
   ]
  },
  {
   "cell_type": "markdown",
   "id": "c1ca0cad",
   "metadata": {},
   "source": [
    "## 6a. LSTM"
   ]
  },
  {
   "cell_type": "code",
   "execution_count": 21,
   "id": "730f987b",
   "metadata": {},
   "outputs": [],
   "source": [
    "# Set up Tensorboard logging and callbacks\n",
    "NAME = f\"ExerciseRecognition-LSTM-{int(time.time())}\"\n",
    "log_dir = os.path.join(os.getcwd(), 'logs', NAME,'')\n",
    "tb_callback = TensorBoard(log_dir=log_dir)\n",
    "\n",
    "callbacks = [tb_callback, es_callback, lr_callback, chkpt_callback]"
   ]
  },
  {
   "cell_type": "code",
   "execution_count": 22,
   "id": "ae7595c1",
   "metadata": {},
   "outputs": [
    {
     "name": "stdout",
     "output_type": "stream",
     "text": [
      "Model: \"sequential\"\n",
      "_________________________________________________________________\n",
      " Layer (type)                Output Shape              Param #   \n",
      "=================================================================\n",
      " lstm (LSTM)                 (None, 30, 128)           133632    \n",
      "                                                                 \n",
      " lstm_1 (LSTM)               (None, 30, 256)           394240    \n",
      "                                                                 \n",
      " lstm_2 (LSTM)               (None, 128)               197120    \n",
      "                                                                 \n",
      " dense (Dense)               (None, 128)               16512     \n",
      "                                                                 \n",
      " dense_1 (Dense)             (None, 64)                8256      \n",
      "                                                                 \n",
      " dense_2 (Dense)             (None, 3)                 195       \n",
      "                                                                 \n",
      "=================================================================\n",
      "Total params: 749,955\n",
      "Trainable params: 749,955\n",
      "Non-trainable params: 0\n",
      "_________________________________________________________________\n",
      "None\n"
     ]
    }
   ],
   "source": [
    "lstm = Sequential()\n",
    "lstm.add(LSTM(128, return_sequences=True, activation='relu', input_shape=(sequence_length, num_input_values)))\n",
    "lstm.add(LSTM(256, return_sequences=True, activation='relu'))\n",
    "lstm.add(LSTM(128, return_sequences=False, activation='relu'))\n",
    "lstm.add(Dense(128, activation='relu'))\n",
    "lstm.add(Dense(64, activation='relu'))\n",
    "lstm.add(Dense(actions.shape[0], activation='softmax'))\n",
    "print(lstm.summary())"
   ]
  },
  {
   "cell_type": "code",
   "execution_count": 23,
   "id": "8a10e698",
   "metadata": {},
   "outputs": [
    {
     "name": "stdout",
     "output_type": "stream",
     "text": [
      "Epoch 1/500\n",
      "4/4 [==============================] - 7s 403ms/step - loss: 2657266.0000 - categorical_accuracy: 0.3304 - val_loss: 1657241.0000 - val_categorical_accuracy: 0.2609 - lr: 0.0100\n",
      "Epoch 2/500\n",
      "4/4 [==============================] - 0s 91ms/step - loss: 405445.0000 - categorical_accuracy: 0.2946 - val_loss: 3555.3569 - val_categorical_accuracy: 0.3478 - lr: 0.0100\n",
      "Epoch 3/500\n",
      "4/4 [==============================] - 0s 83ms/step - loss: 5467.0659 - categorical_accuracy: 0.3304 - val_loss: 16571.0820 - val_categorical_accuracy: 0.3913 - lr: 0.0100\n",
      "Epoch 4/500\n",
      "4/4 [==============================] - 0s 89ms/step - loss: 15846.7764 - categorical_accuracy: 0.3839 - val_loss: 186028.1562 - val_categorical_accuracy: 0.2609 - lr: 0.0100\n",
      "Epoch 5/500\n",
      "4/4 [==============================] - 0s 88ms/step - loss: 300098.0938 - categorical_accuracy: 0.2946 - val_loss: 73468.7734 - val_categorical_accuracy: 0.2609 - lr: 0.0100\n",
      "Epoch 6/500\n",
      "4/4 [==============================] - 0s 116ms/step - loss: 95563.7422 - categorical_accuracy: 0.3839 - val_loss: 27902.3125 - val_categorical_accuracy: 0.3478 - lr: 0.0100\n",
      "Epoch 7/500\n",
      "4/4 [==============================] - 0s 84ms/step - loss: 17094.4668 - categorical_accuracy: 0.3214 - val_loss: 12908.7998 - val_categorical_accuracy: 0.2609 - lr: 0.0100\n",
      "Epoch 8/500\n",
      "4/4 [==============================] - 0s 88ms/step - loss: 12207.3818 - categorical_accuracy: 0.3571 - val_loss: 8577.0391 - val_categorical_accuracy: 0.2609 - lr: 0.0020\n",
      "Epoch 9/500\n",
      "4/4 [==============================] - 0s 86ms/step - loss: 4464.8936 - categorical_accuracy: 0.3750 - val_loss: 4211.7939 - val_categorical_accuracy: 0.3478 - lr: 0.0020\n",
      "Epoch 10/500\n",
      "4/4 [==============================] - 0s 85ms/step - loss: 5561.3281 - categorical_accuracy: 0.3661 - val_loss: 5852.9307 - val_categorical_accuracy: 0.3913 - lr: 0.0020\n",
      "Epoch 11/500\n",
      "4/4 [==============================] - 0s 85ms/step - loss: 5485.0010 - categorical_accuracy: 0.2679 - val_loss: 7200.1113 - val_categorical_accuracy: 0.3478 - lr: 0.0020\n",
      "Epoch 12/500\n",
      "4/4 [==============================] - 0s 86ms/step - loss: 6073.2314 - categorical_accuracy: 0.2946 - val_loss: 6720.7744 - val_categorical_accuracy: 0.2609 - lr: 0.0020\n"
     ]
    },
    {
     "data": {
      "text/plain": [
       "<keras.callbacks.History at 0x1b90de881c0>"
      ]
     },
     "execution_count": 23,
     "metadata": {},
     "output_type": "execute_result"
    }
   ],
   "source": [
    "lstm.compile(optimizer=opt, loss='categorical_crossentropy', metrics=['categorical_accuracy'])\n",
    "lstm.fit(X_train, y_train, batch_size=batch_size, epochs=max_epochs, validation_data=(X_val, y_val), callbacks=callbacks)"
   ]
  },
  {
   "cell_type": "markdown",
   "id": "8f58c4d8",
   "metadata": {},
   "source": [
    "## 6b. LSTM + Attention"
   ]
  },
  {
   "cell_type": "code",
   "execution_count": 24,
   "id": "c6e12666",
   "metadata": {},
   "outputs": [],
   "source": [
    "# Set up Tensorboard logging and callbacks\n",
    "NAME = f\"ExerciseRecognition-AttnLSTM-{int(time.time())}\"\n",
    "log_dir = os.path.join(os.getcwd(), 'logs', NAME,'')\n",
    "tb_callback = TensorBoard(log_dir=log_dir)\n",
    "\n",
    "callbacks = [tb_callback, es_callback, lr_callback, chkpt_callback]"
   ]
  },
  {
   "cell_type": "code",
   "execution_count": 25,
   "id": "07591dac",
   "metadata": {},
   "outputs": [],
   "source": [
    "def attention_block(inputs, time_steps):\n",
    "    \"\"\"\n",
    "    Attention layer for deep neural network\n",
    "    \n",
    "    \"\"\"\n",
    "    # Attention weights\n",
    "    a = Permute((2, 1))(inputs)\n",
    "    a = Dense(time_steps, activation='softmax')(a)\n",
    "    \n",
    "    # Attention vector\n",
    "    a_probs = Permute((2, 1), name='attention_vec')(a)\n",
    "    \n",
    "    # Luong's multiplicative score\n",
    "    output_attention_mul = multiply([inputs, a_probs], name='attention_mul') \n",
    "    \n",
    "    return output_attention_mul"
   ]
  },
  {
   "cell_type": "code",
   "execution_count": 26,
   "id": "c5c2e2e0",
   "metadata": {},
   "outputs": [
    {
     "name": "stdout",
     "output_type": "stream",
     "text": [
      "Model: \"model\"\n",
      "__________________________________________________________________________________________________\n",
      " Layer (type)                   Output Shape         Param #     Connected to                     \n",
      "==================================================================================================\n",
      " input_1 (InputLayer)           [(None, 30, 132)]    0           []                               \n",
      "                                                                                                  \n",
      " bidirectional (Bidirectional)  (None, 30, 512)      796672      ['input_1[0][0]']                \n",
      "                                                                                                  \n",
      " permute (Permute)              (None, 512, 30)      0           ['bidirectional[0][0]']          \n",
      "                                                                                                  \n",
      " dense_3 (Dense)                (None, 512, 30)      930         ['permute[0][0]']                \n",
      "                                                                                                  \n",
      " attention_vec (Permute)        (None, 30, 512)      0           ['dense_3[0][0]']                \n",
      "                                                                                                  \n",
      " attention_mul (Multiply)       (None, 30, 512)      0           ['bidirectional[0][0]',          \n",
      "                                                                  'attention_vec[0][0]']          \n",
      "                                                                                                  \n",
      " flatten (Flatten)              (None, 15360)        0           ['attention_mul[0][0]']          \n",
      "                                                                                                  \n",
      " dense_4 (Dense)                (None, 512)          7864832     ['flatten[0][0]']                \n",
      "                                                                                                  \n",
      " dropout (Dropout)              (None, 512)          0           ['dense_4[0][0]']                \n",
      "                                                                                                  \n",
      " dense_5 (Dense)                (None, 3)            1539        ['dropout[0][0]']                \n",
      "                                                                                                  \n",
      "==================================================================================================\n",
      "Total params: 8,663,973\n",
      "Trainable params: 8,663,973\n",
      "Non-trainable params: 0\n",
      "__________________________________________________________________________________________________\n",
      "None\n"
     ]
    }
   ],
   "source": [
    "HIDDEN_UNITS = 256\n",
    "\n",
    "# Input\n",
    "inputs = Input(shape=(sequence_length, num_input_values))\n",
    "\n",
    "# Bi-LSTM\n",
    "lstm_out = Bidirectional(LSTM(HIDDEN_UNITS, return_sequences=True))(inputs)\n",
    "\n",
    "# Attention\n",
    "attention_mul = attention_block(lstm_out, sequence_length)\n",
    "attention_mul = Flatten()(attention_mul)\n",
    "\n",
    "# Fully Connected Layer\n",
    "x = Dense(2*HIDDEN_UNITS, activation='relu')(attention_mul)\n",
    "x = Dropout(0.5)(x)\n",
    "\n",
    "# Output\n",
    "x = Dense(actions.shape[0], activation='softmax')(x)\n",
    "\n",
    "# Bring it all together\n",
    "AttnLSTM = Model(inputs=[inputs], outputs=x)\n",
    "print(AttnLSTM.summary())"
   ]
  },
  {
   "cell_type": "code",
   "execution_count": 27,
   "id": "cf2f988d",
   "metadata": {},
   "outputs": [
    {
     "name": "stdout",
     "output_type": "stream",
     "text": [
      "Epoch 1/500\n",
      "4/4 [==============================] - 8s 650ms/step - loss: 1.1080 - categorical_accuracy: 0.3750 - val_loss: 1.0987 - val_categorical_accuracy: 0.3913 - lr: 4.0000e-04\n",
      "Epoch 2/500\n",
      "4/4 [==============================] - 1s 137ms/step - loss: 1.1090 - categorical_accuracy: 0.3036 - val_loss: 1.1025 - val_categorical_accuracy: 0.1739 - lr: 4.0000e-04\n",
      "Epoch 3/500\n",
      "4/4 [==============================] - 1s 134ms/step - loss: 1.0749 - categorical_accuracy: 0.3661 - val_loss: 1.0930 - val_categorical_accuracy: 0.4348 - lr: 4.0000e-04\n",
      "Epoch 4/500\n",
      "4/4 [==============================] - 1s 137ms/step - loss: 1.0623 - categorical_accuracy: 0.4554 - val_loss: 1.0507 - val_categorical_accuracy: 0.5652 - lr: 4.0000e-04\n",
      "Epoch 5/500\n",
      "4/4 [==============================] - 0s 122ms/step - loss: 1.0073 - categorical_accuracy: 0.4911 - val_loss: 1.0509 - val_categorical_accuracy: 0.6522 - lr: 4.0000e-04\n",
      "Epoch 6/500\n",
      "4/4 [==============================] - 0s 128ms/step - loss: 0.9626 - categorical_accuracy: 0.5714 - val_loss: 1.2297 - val_categorical_accuracy: 0.3478 - lr: 4.0000e-04\n",
      "Epoch 7/500\n",
      "4/4 [==============================] - 0s 123ms/step - loss: 1.0093 - categorical_accuracy: 0.5089 - val_loss: 1.0727 - val_categorical_accuracy: 0.4783 - lr: 4.0000e-04\n",
      "Epoch 8/500\n",
      "4/4 [==============================] - 0s 122ms/step - loss: 0.9476 - categorical_accuracy: 0.4643 - val_loss: 0.9941 - val_categorical_accuracy: 0.4783 - lr: 4.0000e-04\n",
      "Epoch 9/500\n",
      "4/4 [==============================] - 0s 115ms/step - loss: 0.9183 - categorical_accuracy: 0.5625 - val_loss: 0.8509 - val_categorical_accuracy: 0.6957 - lr: 4.0000e-04\n",
      "Epoch 10/500\n",
      "4/4 [==============================] - 0s 126ms/step - loss: 0.8370 - categorical_accuracy: 0.6250 - val_loss: 0.8281 - val_categorical_accuracy: 0.6957 - lr: 4.0000e-04\n",
      "Epoch 11/500\n",
      "4/4 [==============================] - 0s 127ms/step - loss: 0.7476 - categorical_accuracy: 0.6786 - val_loss: 0.8082 - val_categorical_accuracy: 0.6522 - lr: 4.0000e-04\n",
      "Epoch 12/500\n",
      "4/4 [==============================] - 0s 128ms/step - loss: 0.7639 - categorical_accuracy: 0.6607 - val_loss: 1.1986 - val_categorical_accuracy: 0.4783 - lr: 4.0000e-04\n",
      "Epoch 13/500\n",
      "4/4 [==============================] - 0s 113ms/step - loss: 0.8173 - categorical_accuracy: 0.5982 - val_loss: 0.7667 - val_categorical_accuracy: 0.7391 - lr: 4.0000e-04\n",
      "Epoch 14/500\n",
      "4/4 [==============================] - 0s 119ms/step - loss: 0.6638 - categorical_accuracy: 0.6964 - val_loss: 0.7472 - val_categorical_accuracy: 0.7391 - lr: 4.0000e-04\n",
      "Epoch 15/500\n",
      "4/4 [==============================] - 0s 114ms/step - loss: 0.5789 - categorical_accuracy: 0.7232 - val_loss: 0.7728 - val_categorical_accuracy: 0.6957 - lr: 4.0000e-04\n",
      "Epoch 16/500\n",
      "4/4 [==============================] - 0s 122ms/step - loss: 0.5103 - categorical_accuracy: 0.8304 - val_loss: 0.7336 - val_categorical_accuracy: 0.6522 - lr: 4.0000e-04\n",
      "Epoch 17/500\n",
      "4/4 [==============================] - 0s 125ms/step - loss: 0.5581 - categorical_accuracy: 0.7500 - val_loss: 0.6083 - val_categorical_accuracy: 0.7826 - lr: 4.0000e-04\n",
      "Epoch 18/500\n",
      "4/4 [==============================] - 0s 125ms/step - loss: 0.5180 - categorical_accuracy: 0.7321 - val_loss: 0.4760 - val_categorical_accuracy: 0.8696 - lr: 4.0000e-04\n",
      "Epoch 19/500\n",
      "4/4 [==============================] - 0s 131ms/step - loss: 0.3145 - categorical_accuracy: 0.9107 - val_loss: 0.5496 - val_categorical_accuracy: 0.8261 - lr: 4.0000e-04\n",
      "Epoch 20/500\n",
      "4/4 [==============================] - 0s 128ms/step - loss: 0.3805 - categorical_accuracy: 0.8571 - val_loss: 0.7798 - val_categorical_accuracy: 0.6522 - lr: 4.0000e-04\n",
      "Epoch 21/500\n",
      "4/4 [==============================] - 0s 114ms/step - loss: 0.7761 - categorical_accuracy: 0.6696 - val_loss: 0.5881 - val_categorical_accuracy: 0.7391 - lr: 4.0000e-04\n",
      "Epoch 22/500\n",
      "4/4 [==============================] - 0s 131ms/step - loss: 0.6638 - categorical_accuracy: 0.7232 - val_loss: 0.4929 - val_categorical_accuracy: 0.7391 - lr: 4.0000e-04\n",
      "Epoch 23/500\n",
      "4/4 [==============================] - 0s 115ms/step - loss: 0.5575 - categorical_accuracy: 0.7143 - val_loss: 0.4675 - val_categorical_accuracy: 0.8261 - lr: 4.0000e-04\n",
      "Epoch 24/500\n",
      "4/4 [==============================] - 0s 122ms/step - loss: 0.4816 - categorical_accuracy: 0.7857 - val_loss: 0.4054 - val_categorical_accuracy: 0.9130 - lr: 4.0000e-04\n",
      "Epoch 25/500\n",
      "4/4 [==============================] - 0s 119ms/step - loss: 0.3297 - categorical_accuracy: 0.8750 - val_loss: 0.4402 - val_categorical_accuracy: 0.8696 - lr: 4.0000e-04\n",
      "Epoch 26/500\n",
      "4/4 [==============================] - 0s 112ms/step - loss: 0.2533 - categorical_accuracy: 0.9286 - val_loss: 0.4388 - val_categorical_accuracy: 0.7826 - lr: 4.0000e-04\n",
      "Epoch 27/500\n",
      "4/4 [==============================] - 0s 109ms/step - loss: 0.2539 - categorical_accuracy: 0.8750 - val_loss: 0.4406 - val_categorical_accuracy: 0.8696 - lr: 4.0000e-04\n",
      "Epoch 28/500\n",
      "4/4 [==============================] - 0s 109ms/step - loss: 0.2998 - categorical_accuracy: 0.9018 - val_loss: 0.4612 - val_categorical_accuracy: 0.7826 - lr: 4.0000e-04\n",
      "Epoch 29/500\n",
      "4/4 [==============================] - 0s 125ms/step - loss: 0.3716 - categorical_accuracy: 0.8304 - val_loss: 0.3140 - val_categorical_accuracy: 0.9565 - lr: 4.0000e-04\n",
      "Epoch 30/500\n",
      "4/4 [==============================] - 0s 123ms/step - loss: 0.2897 - categorical_accuracy: 0.8750 - val_loss: 0.4114 - val_categorical_accuracy: 0.9130 - lr: 4.0000e-04\n",
      "Epoch 31/500\n",
      "4/4 [==============================] - 0s 124ms/step - loss: 0.1805 - categorical_accuracy: 0.9464 - val_loss: 0.3631 - val_categorical_accuracy: 0.8261 - lr: 4.0000e-04\n",
      "Epoch 32/500\n",
      "4/4 [==============================] - 0s 108ms/step - loss: 0.1986 - categorical_accuracy: 0.9464 - val_loss: 0.2464 - val_categorical_accuracy: 0.9565 - lr: 4.0000e-04\n",
      "Epoch 33/500\n",
      "4/4 [==============================] - 0s 120ms/step - loss: 0.1094 - categorical_accuracy: 0.9821 - val_loss: 0.1804 - val_categorical_accuracy: 0.9565 - lr: 4.0000e-04\n",
      "Epoch 34/500\n",
      "4/4 [==============================] - 0s 122ms/step - loss: 0.1020 - categorical_accuracy: 0.9821 - val_loss: 0.1822 - val_categorical_accuracy: 0.9565 - lr: 4.0000e-04\n",
      "Epoch 35/500\n",
      "4/4 [==============================] - 0s 114ms/step - loss: 0.0979 - categorical_accuracy: 0.9643 - val_loss: 0.3124 - val_categorical_accuracy: 0.8261 - lr: 4.0000e-04\n",
      "Epoch 36/500\n",
      "4/4 [==============================] - 0s 115ms/step - loss: 0.1972 - categorical_accuracy: 0.9196 - val_loss: 0.3076 - val_categorical_accuracy: 0.9565 - lr: 4.0000e-04\n",
      "Epoch 37/500\n",
      "4/4 [==============================] - 0s 123ms/step - loss: 0.2112 - categorical_accuracy: 0.9107 - val_loss: 0.5946 - val_categorical_accuracy: 0.7826 - lr: 4.0000e-04\n",
      "Epoch 38/500\n",
      "4/4 [==============================] - 0s 94ms/step - loss: 0.1236 - categorical_accuracy: 0.9554 - val_loss: 0.3299 - val_categorical_accuracy: 0.8261 - lr: 4.0000e-04\n",
      "Epoch 39/500\n",
      "4/4 [==============================] - 0s 125ms/step - loss: 0.2253 - categorical_accuracy: 0.9196 - val_loss: 0.2095 - val_categorical_accuracy: 0.9565 - lr: 8.0000e-05\n",
      "Epoch 40/500\n",
      "4/4 [==============================] - 1s 128ms/step - loss: 0.1378 - categorical_accuracy: 0.9286 - val_loss: 0.5813 - val_categorical_accuracy: 0.8261 - lr: 8.0000e-05\n",
      "Epoch 41/500\n",
      "4/4 [==============================] - 0s 126ms/step - loss: 0.2363 - categorical_accuracy: 0.9018 - val_loss: 0.2900 - val_categorical_accuracy: 0.9130 - lr: 8.0000e-05\n",
      "Epoch 42/500\n",
      "4/4 [==============================] - 0s 128ms/step - loss: 0.0867 - categorical_accuracy: 0.9554 - val_loss: 0.2112 - val_categorical_accuracy: 0.9565 - lr: 8.0000e-05\n",
      "Epoch 43/500\n",
      "4/4 [==============================] - 0s 106ms/step - loss: 0.0773 - categorical_accuracy: 0.9821 - val_loss: 0.2193 - val_categorical_accuracy: 0.9565 - lr: 8.0000e-05\n"
     ]
    },
    {
     "data": {
      "text/plain": [
       "<keras.callbacks.History at 0x1b90448cb20>"
      ]
     },
     "execution_count": 27,
     "metadata": {},
     "output_type": "execute_result"
    }
   ],
   "source": [
    "AttnLSTM.compile(optimizer=opt, loss='categorical_crossentropy', metrics=['categorical_accuracy'])\n",
    "AttnLSTM.fit(X_train, y_train, batch_size=batch_size, epochs=max_epochs, validation_data=(X_val, y_val), callbacks=callbacks)"
   ]
  },
  {
   "cell_type": "code",
   "execution_count": 28,
   "id": "b89f67cf",
   "metadata": {},
   "outputs": [],
   "source": [
    "# Model map\n",
    "models = {\n",
    "    'LSTM': lstm, \n",
    "    'LSTM_Attention_128HUs': AttnLSTM, \n",
    "}"
   ]
  },
  {
   "cell_type": "markdown",
   "id": "a928f612",
   "metadata": {},
   "source": [
    "# 7a. Save Weights"
   ]
  },
  {
   "cell_type": "code",
   "execution_count": 29,
   "id": "0a7647ad",
   "metadata": {},
   "outputs": [],
   "source": [
    "for model_name, model in models.items():\n",
    "    save_dir = os.path.join(os.getcwd(), f\"{model_name}.h5\")\n",
    "    model.save(save_dir)"
   ]
  },
  {
   "cell_type": "markdown",
   "id": "13fecf26",
   "metadata": {},
   "source": [
    "# 7b. Load Weights"
   ]
  },
  {
   "cell_type": "code",
   "execution_count": 30,
   "id": "ed0114a6",
   "metadata": {},
   "outputs": [],
   "source": [
    "# Run model rebuild before doing this\n",
    "for model_name, model in models.items():\n",
    "    load_dir = os.path.join(os.getcwd(), f\"{model_name}.h5\")\n",
    "    model.load_weights(load_dir)"
   ]
  },
  {
   "cell_type": "markdown",
   "id": "1b7747c6",
   "metadata": {},
   "source": [
    "# 8. Make Predictions"
   ]
  },
  {
   "cell_type": "code",
   "execution_count": 31,
   "id": "2101a592",
   "metadata": {},
   "outputs": [],
   "source": [
    "for model in models.values():\n",
    "    res = model.predict(X_test, verbose=0)   "
   ]
  },
  {
   "cell_type": "markdown",
   "id": "6b36c98e",
   "metadata": {},
   "source": [
    "# 9. Evaluations using Confusion Matrix and Accuracy"
   ]
  },
  {
   "cell_type": "code",
   "execution_count": 32,
   "id": "ecf242d9",
   "metadata": {},
   "outputs": [],
   "source": [
    "eval_results = {}\n",
    "eval_results['confusion matrix'] = None\n",
    "eval_results['accuracy'] = None\n",
    "eval_results['precision'] = None\n",
    "eval_results['recall'] = None\n",
    "eval_results['f1 score'] = None\n",
    "\n",
    "confusion_matrices = {}\n",
    "classification_accuracies = {}   \n",
    "precisions = {}\n",
    "recalls = {}\n",
    "f1_scores = {} "
   ]
  },
  {
   "cell_type": "markdown",
   "id": "74d6778f",
   "metadata": {},
   "source": [
    "## 9a. Confusion Matrices"
   ]
  },
  {
   "cell_type": "code",
   "execution_count": 33,
   "id": "fccbb90f",
   "metadata": {},
   "outputs": [
    {
     "name": "stdout",
     "output_type": "stream",
     "text": [
      "LSTM confusion matrix: \r\n",
      "[[[10  0]\n",
      "  [ 5  0]]\n",
      "\n",
      " [[ 9  0]\n",
      "  [ 6  0]]\n",
      "\n",
      " [[ 0 11]\n",
      "  [ 0  4]]]\n",
      "LSTM_Attention_128HUs confusion matrix: \r\n",
      "[[[ 8  2]\n",
      "  [ 0  5]]\n",
      "\n",
      " [[ 9  0]\n",
      "  [ 2  4]]\n",
      "\n",
      " [[10  1]\n",
      "  [ 1  3]]]\n"
     ]
    }
   ],
   "source": [
    "for model_name, model in models.items():\n",
    "    yhat = model.predict(X_test, verbose=0)\n",
    "    \n",
    "    # Get list of classification predictions\n",
    "    ytrue = np.argmax(y_test, axis=1).tolist()\n",
    "    yhat = np.argmax(yhat, axis=1).tolist()\n",
    "    \n",
    "    # Confusion matrix\n",
    "    confusion_matrices[model_name] = multilabel_confusion_matrix(ytrue, yhat)\n",
    "    print(f\"{model_name} confusion matrix: {os.linesep}{confusion_matrices[model_name]}\")\n",
    "\n",
    "# Collect results \n",
    "eval_results['confusion matrix'] = confusion_matrices"
   ]
  },
  {
   "cell_type": "markdown",
   "id": "b76c6dc5",
   "metadata": {},
   "source": [
    "## 9b. Accuracy"
   ]
  },
  {
   "cell_type": "code",
   "execution_count": 34,
   "id": "e36146f5",
   "metadata": {},
   "outputs": [
    {
     "name": "stdout",
     "output_type": "stream",
     "text": [
      "LSTM classification accuracy = 26.667%\n",
      "LSTM_Attention_128HUs classification accuracy = 80.0%\n"
     ]
    }
   ],
   "source": [
    "for model_name, model in models.items():\n",
    "    yhat = model.predict(X_test, verbose=0)\n",
    "    \n",
    "    # Get list of classification predictions\n",
    "    ytrue = np.argmax(y_test, axis=1).tolist()\n",
    "    yhat = np.argmax(yhat, axis=1).tolist()\n",
    "    \n",
    "    # Model accuracy\n",
    "    classification_accuracies[model_name] = accuracy_score(ytrue, yhat)    \n",
    "    print(f\"{model_name} classification accuracy = {round(classification_accuracies[model_name]*100,3)}%\")\n",
    "\n",
    "# Collect results \n",
    "eval_results['accuracy'] = classification_accuracies"
   ]
  },
  {
   "cell_type": "markdown",
   "id": "33efa73a",
   "metadata": {},
   "source": [
    "## 9c. Precision, Recall, and F1 Score"
   ]
  },
  {
   "cell_type": "code",
   "execution_count": 35,
   "id": "35067c48",
   "metadata": {},
   "outputs": [
    {
     "name": "stdout",
     "output_type": "stream",
     "text": [
      "LSTM weighted average precision = 0.071\n",
      "LSTM weighted average recall = 0.267\n",
      "LSTM weighted average f1-score = 0.112\n",
      "\n",
      "LSTM_Attention_128HUs weighted average precision = 0.838\n",
      "LSTM_Attention_128HUs weighted average recall = 0.8\n",
      "LSTM_Attention_128HUs weighted average f1-score = 0.798\n",
      "\n"
     ]
    },
    {
     "name": "stderr",
     "output_type": "stream",
     "text": [
      "C:\\Users\\Sabreen Anjum\\anaconda3\\envs\\tensorflow\\lib\\site-packages\\sklearn\\metrics\\_classification.py:1471: UndefinedMetricWarning: Precision and F-score are ill-defined and being set to 0.0 in labels with no predicted samples. Use `zero_division` parameter to control this behavior.\n",
      "  _warn_prf(average, modifier, msg_start, len(result))\n",
      "C:\\Users\\Sabreen Anjum\\anaconda3\\envs\\tensorflow\\lib\\site-packages\\sklearn\\metrics\\_classification.py:1471: UndefinedMetricWarning: Precision and F-score are ill-defined and being set to 0.0 in labels with no predicted samples. Use `zero_division` parameter to control this behavior.\n",
      "  _warn_prf(average, modifier, msg_start, len(result))\n",
      "C:\\Users\\Sabreen Anjum\\anaconda3\\envs\\tensorflow\\lib\\site-packages\\sklearn\\metrics\\_classification.py:1471: UndefinedMetricWarning: Precision and F-score are ill-defined and being set to 0.0 in labels with no predicted samples. Use `zero_division` parameter to control this behavior.\n",
      "  _warn_prf(average, modifier, msg_start, len(result))\n"
     ]
    }
   ],
   "source": [
    "for model_name, model in models.items():\n",
    "    yhat = model.predict(X_test, verbose=0)\n",
    "    \n",
    "    # Get list of classification predictions\n",
    "    ytrue = np.argmax(y_test, axis=1).tolist()\n",
    "    yhat = np.argmax(yhat, axis=1).tolist()\n",
    "    \n",
    "    # Precision, recall, and f1 score\n",
    "    report = classification_report(ytrue, yhat, target_names=actions, output_dict=True)\n",
    "    \n",
    "    precisions[model_name] = report['weighted avg']['precision']\n",
    "    recalls[model_name] = report['weighted avg']['recall']\n",
    "    f1_scores[model_name] = report['weighted avg']['f1-score'] \n",
    "   \n",
    "    print(f\"{model_name} weighted average precision = {round(precisions[model_name],3)}\")\n",
    "    print(f\"{model_name} weighted average recall = {round(recalls[model_name],3)}\")\n",
    "    print(f\"{model_name} weighted average f1-score = {round(f1_scores[model_name],3)}\\n\")\n",
    "\n",
    "# Collect results \n",
    "eval_results['precision'] = precisions\n",
    "eval_results['recall'] = recalls\n",
    "eval_results['f1 score'] = f1_scores"
   ]
  },
  {
   "cell_type": "markdown",
   "id": "e5d39476",
   "metadata": {},
   "source": [
    "# 10. Choose Model to Test in Real Time"
   ]
  },
  {
   "cell_type": "code",
   "execution_count": 36,
   "id": "d72d0605",
   "metadata": {},
   "outputs": [],
   "source": [
    "model = AttnLSTM\n",
    "model_name = 'AttnLSTM'"
   ]
  },
  {
   "cell_type": "markdown",
   "id": "9f0015ce",
   "metadata": {},
   "source": [
    "# 11. Calculate Joint Angles & Count Reps"
   ]
  },
  {
   "cell_type": "code",
   "execution_count": 37,
   "id": "f172932f",
   "metadata": {},
   "outputs": [],
   "source": [
    "def calculate_angle(a,b,c):\n",
    "    \"\"\"\n",
    "    Computes 3D joint angle inferred by 3 keypoints and their relative positions to one another\n",
    "    \n",
    "    \"\"\"\n",
    "    a = np.array(a) # First\n",
    "    b = np.array(b) # Mid\n",
    "    c = np.array(c) # End\n",
    "    \n",
    "    radians = np.arctan2(c[1]-b[1], c[0]-b[0]) - np.arctan2(a[1]-b[1], a[0]-b[0])\n",
    "    angle = np.abs(radians*180.0/np.pi)\n",
    "    \n",
    "    if angle >180.0:\n",
    "        angle = 360-angle\n",
    "        \n",
    "    return angle "
   ]
  },
  {
   "cell_type": "code",
   "execution_count": 38,
   "id": "26f357fe",
   "metadata": {},
   "outputs": [],
   "source": [
    "def get_coordinates(landmarks, mp_pose, side, joint):\n",
    "    \"\"\"\n",
    "    Retrieves x and y coordinates of a particular keypoint from the pose estimation model\n",
    "         \n",
    "     Args:\n",
    "         landmarks: processed keypoints from the pose estimation model\n",
    "         mp_pose: Mediapipe pose estimation model\n",
    "         side: 'left' or 'right'. Denotes the side of the body of the landmark of interest.\n",
    "         joint: 'shoulder', 'elbow', 'wrist', 'hip', 'knee', or 'ankle'. Denotes which body joint is associated with the landmark of interest.\n",
    "    \n",
    "    \"\"\"\n",
    "    coord = getattr(mp_pose.PoseLandmark,side.upper()+\"_\"+joint.upper())\n",
    "    x_coord_val = landmarks[coord.value].x\n",
    "    y_coord_val = landmarks[coord.value].y\n",
    "    return [x_coord_val, y_coord_val]            "
   ]
  },
  {
   "cell_type": "code",
   "execution_count": 39,
   "id": "f11273cf",
   "metadata": {},
   "outputs": [],
   "source": [
    "def viz_joint_angle(image, angle, joint):\n",
    "    \"\"\"\n",
    "    Displays the joint angle value near the joint within the image frame\n",
    "    \n",
    "    \"\"\"\n",
    "    cv2.putText(image, str(int(angle)), \n",
    "                   tuple(np.multiply(joint, [640, 480]).astype(int)), \n",
    "                   cv2.FONT_HERSHEY_SIMPLEX, 0.5, (255, 255, 255), 2, cv2.LINE_AA\n",
    "                        )\n",
    "    return"
   ]
  },
  {
   "cell_type": "code",
   "execution_count": 40,
   "id": "b64050d3",
   "metadata": {},
   "outputs": [],
   "source": [
    "def count_reps(image, current_action, landmarks, mp_pose):\n",
    "    \"\"\"\n",
    "    Counts repetitions of each exercise. Global count and stage (i.e., state) variables are updated within this function.\n",
    "    \n",
    "    \"\"\"\n",
    "\n",
    "    global curl_counter, press_counter, squat_counter, curl_stage, press_stage, squat_stage\n",
    "    \n",
    "    if current_action == 'curl':\n",
    "        # Get coords\n",
    "        shoulder = get_coordinates(landmarks, mp_pose, 'left', 'shoulder')\n",
    "        elbow = get_coordinates(landmarks, mp_pose, 'left', 'elbow')\n",
    "        wrist = get_coordinates(landmarks, mp_pose, 'left', 'wrist')\n",
    "        \n",
    "        # calculate elbow angle\n",
    "        angle = calculate_angle(shoulder, elbow, wrist)\n",
    "        \n",
    "        # curl counter logic\n",
    "        if angle < 30:\n",
    "            curl_stage = \"up\" \n",
    "        if angle > 140 and curl_stage =='up':\n",
    "            curl_stage=\"down\"  \n",
    "            curl_counter +=1\n",
    "        press_stage = None\n",
    "        squat_stage = None\n",
    "            \n",
    "        # Viz joint angle\n",
    "        viz_joint_angle(image, angle, elbow)\n",
    "        \n",
    "    elif current_action == 'press':\n",
    "        \n",
    "        # Get coords\n",
    "        shoulder = get_coordinates(landmarks, mp_pose, 'left', 'shoulder')\n",
    "        elbow = get_coordinates(landmarks, mp_pose, 'left', 'elbow')\n",
    "        wrist = get_coordinates(landmarks, mp_pose, 'left', 'wrist')\n",
    "\n",
    "        # Calculate elbow angle\n",
    "        elbow_angle = calculate_angle(shoulder, elbow, wrist)\n",
    "        \n",
    "        # Compute distances between joints\n",
    "        shoulder2elbow_dist = abs(math.dist(shoulder,elbow))\n",
    "        shoulder2wrist_dist = abs(math.dist(shoulder,wrist))\n",
    "        \n",
    "        # Press counter logic\n",
    "        if (elbow_angle > 130) and (shoulder2elbow_dist < shoulder2wrist_dist):\n",
    "            press_stage = \"up\"\n",
    "        if (elbow_angle < 50) and (shoulder2elbow_dist > shoulder2wrist_dist) and (press_stage =='up'):\n",
    "            press_stage='down'\n",
    "            press_counter += 1\n",
    "        curl_stage = None\n",
    "        squat_stage = None\n",
    "            \n",
    "        # Viz joint angle\n",
    "        viz_joint_angle(image, elbow_angle, elbow)\n",
    "        \n",
    "    elif current_action == 'squat':\n",
    "        # Get coords\n",
    "        # left side\n",
    "        left_shoulder = get_coordinates(landmarks, mp_pose, 'left', 'shoulder')\n",
    "        left_hip = get_coordinates(landmarks, mp_pose, 'left', 'hip')\n",
    "        left_knee = get_coordinates(landmarks, mp_pose, 'left', 'knee')\n",
    "        left_ankle = get_coordinates(landmarks, mp_pose, 'left', 'ankle')\n",
    "        # right side\n",
    "        right_shoulder = get_coordinates(landmarks, mp_pose, 'right', 'shoulder')\n",
    "        right_hip = get_coordinates(landmarks, mp_pose, 'right', 'hip')\n",
    "        right_knee = get_coordinates(landmarks, mp_pose, 'right', 'knee')\n",
    "        right_ankle = get_coordinates(landmarks, mp_pose, 'right', 'ankle')\n",
    "        \n",
    "        # Calculate knee angles\n",
    "        left_knee_angle = calculate_angle(left_hip, left_knee, left_ankle)\n",
    "        right_knee_angle = calculate_angle(right_hip, right_knee, right_ankle)\n",
    "        \n",
    "        # Calculate hip angles\n",
    "        left_hip_angle = calculate_angle(left_shoulder, left_hip, left_knee)\n",
    "        right_hip_angle = calculate_angle(right_shoulder, right_hip, right_knee)\n",
    "        \n",
    "        # Squat counter logic\n",
    "        thr = 165\n",
    "        if (left_knee_angle < thr) and (right_knee_angle < thr) and (left_hip_angle < thr) and (right_hip_angle < thr):\n",
    "            squat_stage = \"down\"\n",
    "        if (left_knee_angle > thr) and (right_knee_angle > thr) and (left_hip_angle > thr) and (right_hip_angle > thr) and (squat_stage =='down'):\n",
    "            squat_stage='up'\n",
    "            squat_counter += 1\n",
    "        curl_stage = None\n",
    "        press_stage = None\n",
    "            \n",
    "        # Viz joint angles\n",
    "        viz_joint_angle(image, left_knee_angle, left_knee)\n",
    "        viz_joint_angle(image, left_hip_angle, left_hip)\n",
    "        \n",
    "    else:\n",
    "        pass"
   ]
  },
  {
   "cell_type": "markdown",
   "id": "a5116ef6",
   "metadata": {},
   "source": [
    "# 12. Test in Real Time"
   ]
  },
  {
   "cell_type": "code",
   "execution_count": 41,
   "id": "4775b75e",
   "metadata": {},
   "outputs": [],
   "source": [
    "def prob_viz(res, actions, input_frame, colors):\n",
    "    \"\"\"\n",
    "    This function displays the model prediction probability distribution over the set of exercise classes\n",
    "    as a horizontal bar graph\n",
    "    \n",
    "    \"\"\"\n",
    "    output_frame = input_frame.copy()\n",
    "    for num, prob in enumerate(res):        \n",
    "        cv2.rectangle(output_frame, (0,60+num*40), (int(prob*100), 90+num*40), colors[num], -1)\n",
    "        cv2.putText(output_frame, actions[num], (0, 85+num*40), cv2.FONT_HERSHEY_SIMPLEX, 1, (255,255,255), 2, cv2.LINE_AA)\n",
    "        \n",
    "    return output_frame"
   ]
  },
  {
   "cell_type": "code",
   "execution_count": 42,
   "id": "6332bf1a",
   "metadata": {},
   "outputs": [],
   "source": [
    "# 1. New detection variables\n",
    "sequence = []\n",
    "predictions = []\n",
    "res = []\n",
    "threshold = 0.5 # minimum confidence to classify as an action/exercise\n",
    "current_action = ''\n",
    "\n",
    "# Rep counter logic variables\n",
    "curl_counter = 0\n",
    "press_counter = 0\n",
    "squat_counter = 0\n",
    "curl_stage = None\n",
    "press_stage = None\n",
    "squat_stage = None\n",
    "\n",
    "# Camera object\n",
    "cap = cv2.VideoCapture(0)\n",
    "\n",
    "# Video writer object that saves a video of the real time test\n",
    "fourcc = cv2.VideoWriter_fourcc('M','J','P','G') # video compression format\n",
    "HEIGHT = int(cap.get(cv2.CAP_PROP_FRAME_HEIGHT)) # webcam video frame height\n",
    "WIDTH = int(cap.get(cv2.CAP_PROP_FRAME_WIDTH)) # webcam video frame width\n",
    "FPS = int(cap.get(cv2.CAP_PROP_FPS)) # webcam video fram rate \n",
    "\n",
    "video_name = os.path.join(os.getcwd(),f\"{model_name}_real_time_test.avi\")\n",
    "out = cv2.VideoWriter(video_name, cv2.VideoWriter_fourcc(*\"MJPG\"), FPS, (WIDTH,HEIGHT))\n",
    "\n",
    "# Set mediapipe model \n",
    "with mp_pose.Pose(min_detection_confidence=0.5, min_tracking_confidence=0.5) as pose:\n",
    "    while cap.isOpened():\n",
    "\n",
    "        # Read feed\n",
    "        ret, frame = cap.read()\n",
    "\n",
    "        # Make detection\n",
    "        image, results = mediapipe_detection(frame, pose)\n",
    "        \n",
    "        # Draw landmarks\n",
    "        draw_landmarks(image, results)\n",
    "        \n",
    "        # 2. Prediction logic\n",
    "        keypoints = extract_keypoints(results)        \n",
    "        sequence.append(keypoints)      \n",
    "        sequence = sequence[-sequence_length:]\n",
    "              \n",
    "        if len(sequence) == sequence_length:\n",
    "            res = model.predict(np.expand_dims(sequence, axis=0), verbose=0)[0]           \n",
    "            predictions.append(np.argmax(res))\n",
    "            current_action = actions[np.argmax(res)]\n",
    "            confidence = np.max(res)\n",
    "            \n",
    "        #3. Viz logic\n",
    "            # Erase current action variable if no probability is above threshold\n",
    "            if confidence < threshold:\n",
    "                current_action = ''\n",
    "\n",
    "            # Viz probabilities\n",
    "            image = prob_viz(res, actions, image, colors)\n",
    "            \n",
    "            # Count reps\n",
    "            try:\n",
    "                landmarks = results.pose_landmarks.landmark\n",
    "                count_reps(\n",
    "                    image, current_action, landmarks, mp_pose)\n",
    "            except:\n",
    "                pass\n",
    "\n",
    "            # Display graphical information\n",
    "            cv2.rectangle(image, (0,0), (640, 40), colors[np.argmax(res)], -1)\n",
    "            cv2.putText(image, 'curl ' + str(curl_counter), (3,30), \n",
    "                           cv2.FONT_HERSHEY_SIMPLEX, 1, (255, 255, 255), 2, cv2.LINE_AA)\n",
    "            cv2.putText(image, 'press ' + str(press_counter), (240,30), \n",
    "                           cv2.FONT_HERSHEY_SIMPLEX, 1, (255, 255, 255), 2, cv2.LINE_AA)\n",
    "            cv2.putText(image, 'squat ' + str(squat_counter), (490,30), \n",
    "                           cv2.FONT_HERSHEY_SIMPLEX, 1, (255, 255, 255), 2, cv2.LINE_AA)\n",
    "         \n",
    "        # Show to screen\n",
    "        cv2.imshow('OpenCV Feed', image)\n",
    "        \n",
    "        # Write to video file\n",
    "        if ret == True:\n",
    "            out.write(image)\n",
    "\n",
    "        # Break gracefully\n",
    "        if cv2.waitKey(10) & 0xFF == ord('q'):\n",
    "            break\n",
    "    cap.release()\n",
    "    out.release()\n",
    "    cv2.destroyAllWindows()"
   ]
  },
  {
   "cell_type": "code",
   "execution_count": 43,
   "id": "af9980a1",
   "metadata": {},
   "outputs": [],
   "source": [
    "cap.release()\n",
    "out.release()\n",
    "cv2.destroyAllWindows()"
   ]
  },
  {
   "cell_type": "code",
   "execution_count": null,
   "id": "7d09b4d5",
   "metadata": {},
   "outputs": [],
   "source": []
  },
  {
   "cell_type": "code",
   "execution_count": null,
   "id": "4ccb636b",
   "metadata": {},
   "outputs": [],
   "source": []
  },
  {
   "cell_type": "code",
   "execution_count": null,
   "id": "4f94e079",
   "metadata": {},
   "outputs": [],
   "source": []
  }
 ],
 "metadata": {
  "kernelspec": {
   "display_name": "Python 3 (ipykernel)",
   "language": "python",
   "name": "python3"
  },
  "language_info": {
   "codemirror_mode": {
    "name": "ipython",
    "version": 3
   },
   "file_extension": ".py",
   "mimetype": "text/x-python",
   "name": "python",
   "nbconvert_exporter": "python",
   "pygments_lexer": "ipython3",
   "version": "3.9.18"
  },
  "vscode": {
   "interpreter": {
    "hash": "80aa1d3f3a8cfb37a38c47373cc49a39149184c5fa770d709389b1b8782c1d85"
   }
  }
 },
 "nbformat": 4,
 "nbformat_minor": 5
}
